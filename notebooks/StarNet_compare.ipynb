{
 "cells": [
  {
   "cell_type": "markdown",
   "metadata": {},
   "source": [
    "<h1 id=\"tocheading\">Table of Contents</h1>\n",
    "<div id=\"toc\"></div>"
   ]
  },
  {
   "cell_type": "markdown",
   "metadata": {},
   "source": [
    "# Latest tests"
   ]
  },
  {
   "cell_type": "markdown",
   "metadata": {},
   "source": [
    "### Training stats\n",
    "\n",
    "| Test Run | Epochs | loss | mean_abs_err | val_loss | val_mean_abs_err |\n",
    "|---|----|--------|--------|--------|--------|---|\n",
    "| 0 | 10 | 0.0096 | 0.0645 | 0.0077 | 0.0632 |\n",
    "| 1 | 16 | 0.0042 | 0.0472 | 0.0065 | 0.0566 |\n",
    "| 2 |  7 | 0.4424 | 0.5007 | 0.4319 | 0.4981 |\n",
    "| 3 | 23 | 0.0015 | 0.0289 | 0.0028 | 0.0336 |\n",
    "| 4 | 24 | 0.0019 | 0.0313 | 0.0029 | 0.0341 |\n",
    "| 5 | 29 | 0.0020 | 0.0318 | 0.0032 | 0.0343 |\n",
    "| 6 | 21 | 0.0014 | 0.0274 | 0.0029 | 0.0350 |\n",
    "| 7 | 23 | 0.0012 | 0.0258 | 0.0027 | 0.0336 |\n",
    "| 8 | 22 | 0.0022 | 0.0333 | 0.0034 | 0.0375 |\n",
    "| 9 | 22 | 0.0013 | 0.0261 | 0.0025 | 0.0326 |\n"
   ]
  },
  {
   "cell_type": "markdown",
   "metadata": {},
   "source": [
    "### Test stats\n",
    "\n",
    "| Test Run | $\\tilde{m}: T_{eff}$ | $s: T_{eff}$ | $\\tilde{m}: \\log(g)$ | $s: \\log(g)$ | $\\tilde{m}: [Fe/H]$ | $s: [Fe/H]$ |\n",
    "|---|---|---|---|---|---|---|\n",
    "| 0 | -5.11 | 53.64 | -0.048 | 0.118 | -0.007 | 0.039 |\n",
    "| 1 | -45.33 | 48.21 | -0.039 | 0.084 | -0.019 | 0.030 |\n",
    "| 2 | -152.09 | 272.38 | -0.100 | 0.495 | 0.025 | 0.295 |\n",
    "| 3 | -22.61 | 37.77 | 0.004 | 0.080 | -0.004 | 0.026 |\n",
    "| 4 | -17.65 | 39.65 | 0.025 | 0.083 | -0.004 | 0.026 |\n",
    "| 5 | -18.88 | 40.02 | 0.004 | 0.083 | -0.005 | 0.028 |\n",
    "| 6 | -22.16 | 40.12 | -0.007 | 0.083 | -0.007 | 0.027 |\n",
    "| 7 | -17.42 | 38.38 | 0.015 | 0.079 | -0.006 | 0.028 |\n",
    "| 8 | -27.19 | 46.25 | 0.006 | 0.092 | -0.010 | 0.030 |\n",
    "| 9 | -21.15 | 39.08 | 0.014 | 0.077 | -0.004 | 0.026 |\n"
   ]
  },
  {
   "cell_type": "markdown",
   "metadata": {},
   "source": [
    "###  Links to Notebooks\n",
    "\n",
    "* 10 tests: [train data](https://nbviewer.jupyter.org/github/peterswords/StarNetTest/blob/master/notebooks/neworig10/2_Preprocessing_of_Training_Data.ipynb), [test data](https://nbviewer.jupyter.org/github/peterswords/StarNetTest/blob/master/notebooks/neworig10/3_Preprocessing_of_Test_Data.ipynb), [train](https://nbviewer.jupyter.org/github/peterswords/StarNetTest/blob/master/notebooks/neworig10/4_Train_Model.ipynb) + [test](https://nbviewer.jupyter.org/github/peterswords/StarNetTest/blob/master/notebooks/neworig10/5_Test_Model.ipynb) (0), [train](https://nbviewer.jupyter.org/github/peterswords/StarNetTest/blob/master/notebooks/neworig11/4_Train_Model.ipynb) + [test](https://nbviewer.jupyter.org/github/peterswords/StarNetTest/blob/master/notebooks/neworig11/5_Test_Model.ipynb) (1), [train](https://nbviewer.jupyter.org/github/peterswords/StarNetTest/blob/master/notebooks/neworig12/4_Train_Model.ipynb) + [test](https://nbviewer.jupyter.org/github/peterswords/StarNetTest/blob/master/notebooks/neworig12/5_Test_Model.ipynb) (2), [train](https://nbviewer.jupyter.org/github/peterswords/StarNetTest/blob/master/notebooks/neworig13/4_Train_Model.ipynb) + [test](https://nbviewer.jupyter.org/github/peterswords/StarNetTest/blob/master/notebooks/neworig13/5_Test_Model.ipynb) (3), [train](https://nbviewer.jupyter.org/github/peterswords/StarNetTest/blob/master/notebooks/neworig14/4_Train_Model.ipynb) + [test](https://nbviewer.jupyter.org/github/peterswords/StarNetTest/blob/master/notebooks/neworig14/5_Test_Model.ipynb) (4), [train](https://nbviewer.jupyter.org/github/peterswords/StarNetTest/blob/master/notebooks/neworig15/4_Train_Model.ipynb) + [test](https://nbviewer.jupyter.org/github/peterswords/StarNetTest/blob/master/notebooks/neworig15/5_Test_Model.ipynb) (5), [train](https://nbviewer.jupyter.org/github/peterswords/StarNetTest/blob/master/notebooks/neworig16/4_Train_Model.ipynb) + [test](https://nbviewer.jupyter.org/github/peterswords/StarNetTest/blob/master/notebooks/neworig16/5_Test_Model.ipynb) (6), [train](https://nbviewer.jupyter.org/github/peterswords/StarNetTest/blob/master/notebooks/neworig17/4_Train_Model.ipynb) + [test](https://nbviewer.jupyter.org/github/peterswords/StarNetTest/blob/master/notebooks/neworig17/5_Test_Model.ipynb) (7), [train](https://nbviewer.jupyter.org/github/peterswords/StarNetTest/blob/master/notebooks/neworig18/4_Train_Model.ipynb) + [test](https://nbviewer.jupyter.org/github/peterswords/StarNetTest/blob/master/notebooks/neworig18/5_Test_Model.ipynb) (8), [train](https://nbviewer.jupyter.org/github/peterswords/StarNetTest/blob/master/notebooks/neworig19/4_Train_Model.ipynb) + [test](https://nbviewer.jupyter.org/github/peterswords/StarNetTest/blob/master/notebooks/neworig19/5_Test_Model.ipynb) (9)\n",
    "\n",
    "* Sample output (Test 9, $T_{eff}$)\n",
    "<table><tr><td><img src=\"https://i.imgur.com/boGR7yg.png?1\"></td></tr></table>"
   ]
  },
  {
   "cell_type": "markdown",
   "metadata": {},
   "source": [
    "# Package version comparison\n",
    "\n",
    "<table>\n",
    "<tr><th><p style=\"text-align:left;\">Package</th><th><p style=\"text-align:left;\">LJMU version</th><th><p style=\"text-align:left;\">UVic version</th><th><p style=\"text-align:left;\">Same?</th></tr>\n",
    "<tr><td><p style=\"text-align:left; font-family: Courier, monospace;\">bleach</td><td><p style=\"text-align:left;\">1.5.0</td><td><p style=\"text-align:left;\">1.5.0</td><td><p style=\"text-align:center;\">Y</td></tr>\n",
    "<tr><td><p style=\"text-align:left; font-family: Courier, monospace;\">cadcutils</td><td><p style=\"text-align:left;\">1.1.9</td><td><p style=\"text-align:left;\">1.1.9</td><td><p style=\"text-align:center;\">Y</td></tr>\n",
    "<tr><td><p style=\"text-align:left; font-family: Courier, monospace;\">certifi</td><td><p style=\"text-align:left;\">2018.4.16</td><td><p style=\"text-align:left;\">2017.7.27.1</td><td><p style=\"text-align:center;\"></td></tr>\n",
    "<tr><td><p style=\"text-align:left; font-family: Courier, monospace;\">chardet</td><td><p style=\"text-align:left;\">3.0.4</td><td><p style=\"text-align:left;\">3.0.4</td><td><p style=\"text-align:center;\">Y</td></tr>\n",
    "<tr><td><p style=\"text-align:left; font-family: Courier, monospace;\">cycler</td><td><p style=\"text-align:left;\">0.10.0</td><td><p style=\"text-align:left;\">0.10.0</td><td><p style=\"text-align:center;\">Y</td></tr>\n",
    "<tr><td><p style=\"text-align:left; font-family: Courier, monospace;\">decorator</td><td><p style=\"text-align:left;\">4.3.0</td><td><p style=\"text-align:left;\">4.1.2</td><td><p style=\"text-align:center;\"></td></tr>\n",
    "<tr><td><p style=\"text-align:left; font-family: Courier, monospace;\">entrypoints</td><td><p style=\"text-align:left;\">0.2.3</td><td><p style=\"text-align:left;\">0.2.2</td><td><p style=\"text-align:center;\"></td></tr>\n",
    "<tr><td><p style=\"text-align:left; font-family: Courier, monospace;\">enum34</td><td><p style=\"text-align:left;\">1.1.6</td><td><p style=\"text-align:left;\">1.1.6</td><td><p style=\"text-align:center;\">Y</td></tr>\n",
    "<tr><td><p style=\"text-align:left; font-family: Courier, monospace;\">future</td><td><p style=\"text-align:left;\">0.16.0</td><td><p style=\"text-align:left;\">0.16.0</td><td><p style=\"text-align:center;\">Y</td></tr>\n",
    "<tr><td><p style=\"text-align:left; font-family: Courier, monospace;\">h5py</td><td><p style=\"text-align:left;\">2.8.0</td><td><p style=\"text-align:left;\">2.7.1</td><td><p style=\"text-align:center;\"></td></tr>\n",
    "<tr><td><p style=\"text-align:left; font-family: Courier, monospace;\">html2text</td><td><p style=\"text-align:left;\">2018.1.9</td><td><p style=\"text-align:left;\">2018.1.9</td><td><p style=\"text-align:center;\">Y</td></tr>\n",
    "<tr><td><p style=\"text-align:left; font-family: Courier, monospace;\">html5lib</td><td><p style=\"text-align:left;\">0.9999999</td><td><p style=\"text-align:left;\">0.9999999</td><td><p style=\"text-align:center;\">Y</td></tr>\n",
    "<tr><td><p style=\"text-align:left; font-family: Courier, monospace;\">idna</td><td><p style=\"text-align:left;\">2.7</td><td><p style=\"text-align:left;\">2.6</td><td><p style=\"text-align:center;\"></td></tr>\n",
    "<tr><td><p style=\"text-align:left; font-family: Courier, monospace;\">ipykernel</td><td><p style=\"text-align:left;\">4.8.2</td><td><p style=\"text-align:left;\">4.6.1</td><td><p style=\"text-align:center;\"></td></tr>\n",
    "<tr><td><p style=\"text-align:left; font-family: Courier, monospace;\">ipython</td><td><p style=\"text-align:left;\">6.4.0</td><td><p style=\"text-align:left;\">6.0.0</td><td><p style=\"text-align:center;\"></td></tr>\n",
    "<tr><td><p style=\"text-align:left; font-family: Courier, monospace;\">ipython-genutils</td><td><p style=\"text-align:left;\">0.2.0</td><td><p style=\"text-align:left;\">0.2.0</td><td><p style=\"text-align:center;\">Y</td></tr>\n",
    "<tr><td><p style=\"text-align:left; font-family: Courier, monospace;\">jedi</td><td><p style=\"text-align:left;\">0.12.1</td><td><p style=\"text-align:left;\">0.10.2</td><td><p style=\"text-align:center;\"></td></tr>\n",
    "<tr><td><p style=\"text-align:left; font-family: Courier, monospace;\">Jinja2</td><td><p style=\"text-align:left;\">2.1</td><td><p style=\"text-align:left;\">2.9.6</td><td><p style=\"text-align:center;\"></td></tr>\n",
    "<tr><td><p style=\"text-align:left; font-family: Courier, monospace;\">jsonschema</td><td><p style=\"text-align:left;\">2.6.0</td><td><p style=\"text-align:left;\">2.6.0</td><td><p style=\"text-align:center;\">Y</td></tr>\n",
    "<tr><td><p style=\"text-align:left; font-family: Courier, monospace;\">jupyter-client</td><td><p style=\"text-align:left;\">5.2.3</td><td><p style=\"text-align:left;\">5.0.1</td><td><p style=\"text-align:center;\"></td></tr>\n",
    "<tr><td><p style=\"text-align:left; font-family: Courier, monospace;\">jupyter-core</td><td><p style=\"text-align:left;\">4.4.0</td><td><p style=\"text-align:left;\">4.3.0</td><td><p style=\"text-align:center;\"></td></tr>\n",
    "<tr><td><p style=\"text-align:left; font-family: Courier, monospace;\">Keras</td><td><p style=\"text-align:left;\">2.1.5</td><td><p style=\"text-align:left;\">2.1.5</td><td><p style=\"text-align:center;\">Y</td></tr>\n",
    "<tr><td><p style=\"text-align:left; font-family: Courier, monospace;\">lxml</td><td><p style=\"text-align:left;\">4.2.3</td><td><p style=\"text-align:left;\">4.2.1</td><td><p style=\"text-align:center;\"></td></tr>\n",
    "<tr><td><p style=\"text-align:left; font-family: Courier, monospace;\">Markdown</td><td><p style=\"text-align:left;\">2.6.11</td><td><p style=\"text-align:left;\">2.6.9</td><td><p style=\"text-align:center;\"></td></tr>\n",
    "<tr><td><p style=\"text-align:left; font-family: Courier, monospace;\">MarkupSafe</td><td><p style=\"text-align:left;\">1</td><td><p style=\"text-align:left;\">1</td><td><p style=\"text-align:center;\">Y</td></tr>\n",
    "<tr><td><p style=\"text-align:left; font-family: Courier, monospace;\">matplotlib</td><td><p style=\"text-align:left;\">2.2.2</td><td><p style=\"text-align:left;\">2.1.0</td><td><p style=\"text-align:center;\"></td></tr>\n",
    "<tr><td><p style=\"text-align:left; font-family: Courier, monospace;\">mistune</td><td><p style=\"text-align:left;\">0.8.3</td><td><p style=\"text-align:left;\">0.7.4</td><td><p style=\"text-align:center;\"></td></tr>\n",
    "<tr><td><p style=\"text-align:left; font-family: Courier, monospace;\">nbconvert</td><td><p style=\"text-align:left;\">5.3.1</td><td><p style=\"text-align:left;\">5.2.1</td><td><p style=\"text-align:center;\"></td></tr>\n",
    "<tr><td><p style=\"text-align:left; font-family: Courier, monospace;\">nbformat</td><td><p style=\"text-align:left;\">4.4.0</td><td><p style=\"text-align:left;\">4.3.0</td><td><p style=\"text-align:center;\"></td></tr>\n",
    "<tr><td><p style=\"text-align:left; font-family: Courier, monospace;\">notebook</td><td><p style=\"text-align:left;\">5.6.0</td><td><p style=\"text-align:left;\">5.0.0</td><td><p style=\"text-align:center;\"></td></tr>\n",
    "<tr><td><p style=\"text-align:left; font-family: Courier, monospace;\">numpy</td><td><p style=\"text-align:left;\">1.15.0</td><td><p style=\"text-align:left;\">1.13.3</td><td><p style=\"text-align:center;\"></td></tr>\n",
    "<tr><td><p style=\"text-align:left; font-family: Courier, monospace;\">pandas</td><td><p style=\"text-align:left;\">0.23.3</td><td><p style=\"text-align:left;\">0.22.0</td><td><p style=\"text-align:center;\"></td></tr>\n",
    "<tr><td><p style=\"text-align:left; font-family: Courier, monospace;\">pandocfilters</td><td><p style=\"text-align:left;\">1.4.2</td><td><p style=\"text-align:left;\">1.4.1</td><td><p style=\"text-align:center;\"></td></tr>\n",
    "<tr><td><p style=\"text-align:left; font-family: Courier, monospace;\">pexpect</td><td><p style=\"text-align:left;\">4.6.0</td><td><p style=\"text-align:left;\">4.2.1</td><td><p style=\"text-align:center;\"></td></tr>\n",
    "<tr><td><p style=\"text-align:left; font-family: Courier, monospace;\">pickleshare</td><td><p style=\"text-align:left;\">0.7.4</td><td><p style=\"text-align:left;\">0.7.4</td><td><p style=\"text-align:center;\">Y</td></tr>\n",
    "<tr><td><p style=\"text-align:left; font-family: Courier, monospace;\">pip</td><td><p style=\"text-align:left;\">9.0.3</td><td><p style=\"text-align:left;\">9.0.1</td><td><p style=\"text-align:center;\"></td></tr>\n",
    "<tr><td><p style=\"text-align:left; font-family: Courier, monospace;\">prompt-toolkit</td><td><p style=\"text-align:left;\">1.0.15</td><td><p style=\"text-align:left;\">1.0.14</td><td><p style=\"text-align:center;\"></td></tr>\n",
    "<tr><td><p style=\"text-align:left; font-family: Courier, monospace;\">protobuf</td><td><p style=\"text-align:left;\">3.6.0</td><td><p style=\"text-align:left;\">3.4.0</td><td><p style=\"text-align:center;\"></td></tr>\n",
    "<tr><td><p style=\"text-align:left; font-family: Courier, monospace;\">ptyprocess</td><td><p style=\"text-align:left;\">0.6.0</td><td><p style=\"text-align:left;\">0.5.1</td><td><p style=\"text-align:center;\"></td></tr>\n",
    "<tr><td><p style=\"text-align:left; font-family: Courier, monospace;\">Pygments</td><td><p style=\"text-align:left;\">2.2.0</td><td><p style=\"text-align:left;\">2.2.0</td><td><p style=\"text-align:center;\">Y</td></tr>\n",
    "<tr><td><p style=\"text-align:left; font-family: Courier, monospace;\">pyparsing</td><td><p style=\"text-align:left;\">2.2.0</td><td><p style=\"text-align:left;\">2.2.0</td><td><p style=\"text-align:center;\">Y</td></tr>\n",
    "<tr><td><p style=\"text-align:left; font-family: Courier, monospace;\">python-dateutil</td><td><p style=\"text-align:left;\">2.7.3</td><td><p style=\"text-align:left;\">2.6.1</td><td><p style=\"text-align:center;\"></td></tr>\n",
    "<tr><td><p style=\"text-align:left; font-family: Courier, monospace;\">pytz</td><td><p style=\"text-align:left;\">2018.5</td><td><p style=\"text-align:left;\">2017.3</td><td><p style=\"text-align:center;\"></td></tr>\n",
    "<tr><td><p style=\"text-align:left; font-family: Courier, monospace;\">PyYAML</td><td><p style=\"text-align:left;\">3.13</td><td><p style=\"text-align:left;\">3.12</td><td><p style=\"text-align:center;\"></td></tr>\n",
    "<tr><td><p style=\"text-align:left; font-family: Courier, monospace;\">pyzmq</td><td><p style=\"text-align:left;\">17.1.0</td><td><p style=\"text-align:left;\">16.0.2</td><td><p style=\"text-align:center;\"></td></tr>\n",
    "<tr><td><p style=\"text-align:left; font-family: Courier, monospace;\">requests</td><td><p style=\"text-align:left;\">2.19.1</td><td><p style=\"text-align:left;\">2.18.4</td><td><p style=\"text-align:center;\"></td></tr>\n",
    "<tr><td><p style=\"text-align:left; font-family: Courier, monospace;\">scipy</td><td><p style=\"text-align:left;\">1.1.0</td><td><p style=\"text-align:left;\">1.0.0</td><td><p style=\"text-align:center;\"></td></tr>\n",
    "<tr><td><p style=\"text-align:left; font-family: Courier, monospace;\">seaborn</td><td><p style=\"text-align:left;\">0.9.0</td><td><p style=\"text-align:left;\">0.8.1</td><td><p style=\"text-align:center;\"></td></tr>\n",
    "<tr><td><p style=\"text-align:left; font-family: Courier, monospace;\">setuptools</td><td><p style=\"text-align:left;\">36.2.7</td><td><p style=\"text-align:left;\">35.0.2</td><td><p style=\"text-align:center;\"></td></tr>\n",
    "<tr><td><p style=\"text-align:left; font-family: Courier, monospace;\">simplegeneric</td><td><p style=\"text-align:left;\">0.8.1</td><td><p style=\"text-align:left;\">0.8.1</td><td><p style=\"text-align:center;\">Y</td></tr>\n",
    "<tr><td><p style=\"text-align:left; font-family: Courier, monospace;\">six</td><td><p style=\"text-align:left;\">1.11.0</td><td><p style=\"text-align:left;\">1.11.0</td><td><p style=\"text-align:center;\">Y</td></tr>\n",
    "<tr><td><p style=\"text-align:left; font-family: Courier, monospace;\">tensorflow</td><td><p style=\"text-align:left;\">1.4.1</td><td><p style=\"text-align:left;\">1.4.1</td><td><p style=\"text-align:center;\">Y</td></tr>\n",
    "<tr><td><p style=\"text-align:left; font-family: Courier, monospace;\">tensorflow-tensorboard</td><td><p style=\"text-align:left;\">0.4.0</td><td><p style=\"text-align:left;\">0.4.0</td><td><p style=\"text-align:center;\">Y</td></tr>\n",
    "<tr><td><p style=\"text-align:left; font-family: Courier, monospace;\">terminado</td><td><p style=\"text-align:left;\">0.8.1</td><td><p style=\"text-align:left;\">0.6</td><td><p style=\"text-align:center;\"></td></tr>\n",
    "<tr><td><p style=\"text-align:left; font-family: Courier, monospace;\">testpath</td><td><p style=\"text-align:left;\">0.3.1</td><td><p style=\"text-align:left;\">0.3.1</td><td><p style=\"text-align:center;\">Y</td></tr>\n",
    "<tr><td><p style=\"text-align:left; font-family: Courier, monospace;\">tornado</td><td><p style=\"text-align:left;\">5.1</td><td><p style=\"text-align:left;\">4.5.1</td><td><p style=\"text-align:center;\"></td></tr>\n",
    "<tr><td><p style=\"text-align:left; font-family: Courier, monospace;\">traitlets</td><td><p style=\"text-align:left;\">4.3.2</td><td><p style=\"text-align:left;\">4.3.2</td><td><p style=\"text-align:center;\">Y</td></tr>\n",
    "<tr><td><p style=\"text-align:left; font-family: Courier, monospace;\">urllib3</td><td><p style=\"text-align:left;\">1.23</td><td><p style=\"text-align:left;\">1.22</td><td><p style=\"text-align:center;\"></td></tr>\n",
    "<tr><td><p style=\"text-align:left; font-family: Courier, monospace;\">vos</td><td><p style=\"text-align:left;\">3.0.6</td><td><p style=\"text-align:left;\">3.0.4</td><td><p style=\"text-align:center;\"></td></tr>\n",
    "<tr><td><p style=\"text-align:left; font-family: Courier, monospace;\">wcwidth</td><td><p style=\"text-align:left;\">0.1.7</td><td><p style=\"text-align:left;\">0.1.7</td><td><p style=\"text-align:center;\">Y</td></tr>\n",
    "<tr><td><p style=\"text-align:left; font-family: Courier, monospace;\">Werkzeug</td><td><p style=\"text-align:left;\">0.14.1</td><td><p style=\"text-align:left;\">0.12.2</td><td><p style=\"text-align:center;\"></td></tr>\n",
    "<tr><td><p style=\"text-align:left; font-family: Courier, monospace;\">wheel</td><td><p style=\"text-align:left;\">0.31.1</td><td><p style=\"text-align:left;\">0.29.0</td><td><p style=\"text-align:center;\"></td></tr>\n",
    "</table>"
   ]
  },
  {
   "cell_type": "markdown",
   "metadata": {},
   "source": [
    "# Tests with corrupted input (ignore)\n",
    "\n",
    "* Links to Jupyter Notebooks for StarNet tests with various combinations of:\n",
    "  * Python 3.6.5 vs. Python 3.5.2\n",
    "  * (Keras 2.1.6 + Tensorflow 1.8.0) vs. (Keras 2.1.5 + Tensorflow 1.4.x)\n",
    "  * Linux vs. Windows (Amazon Linux AMI 2018.03, Windows 10 Home Edition)\n",
    "* For brevity, links to notebooks 2-5 appear as: _train data_, _test data_, _train_ and _test_, respectively. Train and test are repeated for multiple runs (usually two).\n",
    "* The thumbnail graphs show $T_{eff}$ for each run. These are illustrative of the general problem:-- the median StarNet - ASPCAP differences are much greater than the original (by a factor of 3 or so for $T_{eff}$), and the distributions of the differences are much more lumpy for both low and high SNRs.\n"
   ]
  },
  {
   "cell_type": "markdown",
   "metadata": {},
   "source": [
    "\n",
    "* U.Victoria original: [train data](https://nbviewer.jupyter.org/github/peterswords/StarNetTest/blob/master/notebooks/neworig0/2_Preprocessing_of_Training_Data.ipynb), [test data](https://nbviewer.jupyter.org/github/peterswords/StarNetTest/blob/master/notebooks/neworig0/3_Preprocessing_of_Test_Data.ipynb), [train](https://nbviewer.jupyter.org/github/peterswords/StarNetTest/blob/master/notebooks/neworig0/4_Train_Model.ipynb), [test](https://nbviewer.jupyter.org/github/peterswords/StarNetTest/blob/master/notebooks/neworig0/5_Test_Model.ipynb)\n",
    "\n",
    "<table><tr><td><img src=\"https://i.imgur.com/Q5YdixJ.png\"></td></tr></table>\n"
   ]
  },
  {
   "cell_type": "markdown",
   "metadata": {},
   "source": [
    "\n",
    "* Linux, Python 3.6.5, Keras 2.1.6, Tensorflow 1.8.0: [train data](https://nbviewer.jupyter.org/github/peterswords/StarNetTest/blob/master/notebooks/neworig1/2_Preprocessing_of_Training_Data.ipynb), [test data](https://nbviewer.jupyter.org/github/peterswords/StarNetTest/blob/master/notebooks/neworig1/3_Preprocessing_of_Test_Data.ipynb), [train](https://nbviewer.jupyter.org/github/peterswords/StarNetTest/blob/master/notebooks/neworig1/4_Train_Model.ipynb), [test](https://nbviewer.jupyter.org/github/peterswords/StarNetTest/blob/master/notebooks/neworig1/5_Test_Model.ipynb), [train](https://nbviewer.jupyter.org/github/peterswords/StarNetTest/blob/master/notebooks/neworig2/4_Train_Model.ipynb), [test](https://nbviewer.jupyter.org/github/peterswords/StarNetTest/blob/master/notebooks/neworig2/5_Test_Model.ipynb)\n",
    "\n",
    "<table><tr><td><img src=\"https://i.imgur.com/NsTX6Mi.png\"></td><td><img src=\"https://i.imgur.com/AANSmwg.png\"></td></tr></table>\n"
   ]
  },
  {
   "cell_type": "markdown",
   "metadata": {},
   "source": [
    "* Linux, Python 3.6.5, Keras 2.1.5, Tensorflow 1.4.1: [train data](https://nbviewer.jupyter.org/github/peterswords/StarNetTest/blob/master/notebooks/neworig3/2_Preprocessing_of_Training_Data.ipynb), [test data](https://nbviewer.jupyter.org/github/peterswords/StarNetTest/blob/master/notebooks/neworig3/3_Preprocessing_of_Test_Data.ipynb), [train](https://nbviewer.jupyter.org/github/peterswords/StarNetTest/blob/master/notebooks/neworig3/4_Train_Model.ipynb), [test](https://nbviewer.jupyter.org/github/peterswords/StarNetTest/blob/master/notebooks/neworig3/5_Test_Model.ipynb), [train](https://nbviewer.jupyter.org/github/peterswords/StarNetTest/blob/master/notebooks/neworig5/4_Train_Model.ipynb), [test](https://nbviewer.jupyter.org/github/peterswords/StarNetTest/blob/master/notebooks/neworig5/5_Test_Model.ipynb)\n",
    "\n",
    "<table><tr><td><img src=\"https://i.imgur.com/J9CAiIF.png\"></td><td><img src=\"https://i.imgur.com/Qc3Oxwj.png\"></td></tr></table>\n"
   ]
  },
  {
   "cell_type": "markdown",
   "metadata": {},
   "source": [
    "* Linux, Python 3.5.2, Keras 2.1.5, Tensorflow 1.4.1: [train data](https://nbviewer.jupyter.org/github/peterswords/StarNetTest/blob/master/notebooks/neworiglin352/2_Preprocessing_of_Training_Data.ipynb), [test data](https://nbviewer.jupyter.org/github/peterswords/StarNetTest/blob/master/notebooks/neworiglin352/3_Preprocessing_of_Test_Data.ipynb), [train](https://nbviewer.jupyter.org/github/peterswords/StarNetTest/blob/master/notebooks/neworiglin352/4_Train_Model.ipynb), [test](https://nbviewer.jupyter.org/github/peterswords/StarNetTest/blob/master/notebooks/neworiglin352/5_Test_Model.ipynb), [train](https://nbviewer.jupyter.org/github/peterswords/StarNetTest/blob/master/notebooks/neworiglin3522/4_Train_Model.ipynb), [test](https://nbviewer.jupyter.org/github/peterswords/StarNetTest/blob/master/notebooks/neworiglin3522/5_Test_Model.ipynb)\n",
    "\n",
    "<table><tr><td><img src=\"https://i.imgur.com/FbIAkE3.png\"></td><td><img src=\"https://i.imgur.com/a5l8XkR.png\"></td></tr></table>\n"
   ]
  },
  {
   "cell_type": "markdown",
   "metadata": {},
   "source": [
    "* Windows, Python 3.6.5, Keras 2.1.5, Tensorflow 1.4.0: [train data](https://nbviewer.jupyter.org/github/peterswords/StarNetTest/blob/master/notebooks/neworigwin/2_Preprocessing_of_Training_Data.ipynb), [test data](https://nbviewer.jupyter.org/github/peterswords/StarNetTest/blob/master/notebooks/neworigwin/3_Preprocessing_of_Test_Data.ipynb), [train](https://nbviewer.jupyter.org/github/peterswords/StarNetTest/blob/master/notebooks/neworigwin/4_Train_Model.ipynb), [test](https://nbviewer.jupyter.org/github/peterswords/StarNetTest/blob/master/notebooks/neworigwin/5_Test_Model.ipynb), [train](https://nbviewer.jupyter.org/github/peterswords/StarNetTest/blob/master/notebooks/neworigwin2/4_Train_Model.ipynb), [test](https://nbviewer.jupyter.org/github/peterswords/StarNetTest/blob/master/notebooks/neworigwin2/5_Test_Model.ipynb)\n",
    "\n",
    "<table><tr><td><img src=\"https://i.imgur.com/OsIlcWV.png\"></td><td><img src=\"https://i.imgur.com/EiO4AJq.png\"></td></tr></table>\n"
   ]
  },
  {
   "cell_type": "markdown",
   "metadata": {},
   "source": [
    "* Windows, Python 3.5.2, Keras 2.1.5, Tensorflow 1.4.0 (1 run): [train data](https://nbviewer.jupyter.org/github/peterswords/StarNetTest/blob/master/notebooks/neworigwin352/2_Preprocessing_of_Training_Data.ipynb), [test data](https://nbviewer.jupyter.org/github/peterswords/StarNetTest/blob/master/notebooks/neworigwin352/3_Preprocessing_of_Test_Data.ipynb), [train](https://nbviewer.jupyter.org/github/peterswords/StarNetTest/blob/master/notebooks/neworigwin352/4_Train_Model.ipynb), [test](https://nbviewer.jupyter.org/github/peterswords/StarNetTest/blob/master/notebooks/neworigwin352/5_Test_Model.ipynb)\n",
    "\n",
    "<table><tr><td><img src=\"https://i.imgur.com/u1nhhPb.png\"></td></tr></table>\n"
   ]
  },
  {
   "cell_type": "code",
   "execution_count": 1,
   "metadata": {},
   "outputs": [
    {
     "data": {
      "text/html": [
       "<style>table {margin-left: 0 !important;}</style>"
      ],
      "text/plain": [
       "<IPython.core.display.HTML object>"
      ]
     },
     "metadata": {},
     "output_type": "display_data"
    }
   ],
   "source": [
    "%%html\n",
    "<style>table {margin-left: 0 !important;}</style>"
   ]
  },
  {
   "cell_type": "code",
   "execution_count": 2,
   "metadata": {},
   "outputs": [
    {
     "data": {
      "application/javascript": [
       "$.getScript('https://kmahelona.github.io/ipython_notebook_goodies/ipython_notebook_toc.js')"
      ],
      "text/plain": [
       "<IPython.core.display.Javascript object>"
      ]
     },
     "metadata": {},
     "output_type": "display_data"
    }
   ],
   "source": [
    "%%javascript\n",
    "$.getScript('https://kmahelona.github.io/ipython_notebook_goodies/ipython_notebook_toc.js')"
   ]
  },
  {
   "cell_type": "code",
   "execution_count": 3,
   "metadata": {},
   "outputs": [
    {
     "data": {
      "text/html": [
       "<script>\n",
       "code_show=true; \n",
       "function code_toggle() {\n",
       " if (code_show){\n",
       " $('div.input').hide();\n",
       " } else {\n",
       " $('div.input').show();\n",
       " }\n",
       " code_show = !code_show\n",
       "} \n",
       "$( document ).ready(code_toggle);\n",
       "</script>\n",
       "Notebook code is hidden, click <a href=\"javascript:code_toggle()\">here</a> to toggle"
      ],
      "text/plain": [
       "<IPython.core.display.HTML object>"
      ]
     },
     "execution_count": 3,
     "metadata": {},
     "output_type": "execute_result"
    }
   ],
   "source": [
    "from IPython.display import HTML\n",
    "\n",
    "HTML('''<script>\n",
    "code_show=true; \n",
    "function code_toggle() {\n",
    " if (code_show){\n",
    " $('div.input').hide();\n",
    " } else {\n",
    " $('div.input').show();\n",
    " }\n",
    " code_show = !code_show\n",
    "} \n",
    "$( document ).ready(code_toggle);\n",
    "</script>\n",
    "Notebook code is hidden, click <a href=\"javascript:code_toggle()\">here</a> to toggle''')\n"
   ]
  }
 ],
 "metadata": {
  "kernelspec": {
   "display_name": "Python 3",
   "language": "python",
   "name": "python3"
  },
  "language_info": {
   "codemirror_mode": {
    "name": "ipython",
    "version": 3
   },
   "file_extension": ".py",
   "mimetype": "text/x-python",
   "name": "python",
   "nbconvert_exporter": "python",
   "pygments_lexer": "ipython3",
   "version": "3.6.5"
  }
 },
 "nbformat": 4,
 "nbformat_minor": 2
}
