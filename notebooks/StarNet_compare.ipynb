{
 "cells": [
  {
   "cell_type": "markdown",
   "metadata": {},
   "source": [
    "* Links to Jupyter Notebooks for StarNet tests with various combinations of:\n",
    "  * Python 3.6.5 vs. Python 3.5.2\n",
    "  * (Keras 2.1.6 + Tensorflow 1.8.0) vs. (Keras 2.1.5 + Tensorflow 1.4.x)\n",
    "  * Linux vs. Windows (Amazon Linux AMI 2018.03, Windows 10 Home Edition)\n",
    "* For brevity, links to notebooks 2-5 appear as: _train data_, _test data_, _train_ and _test_, respectively. Train and test are repeated for multiple runs (usually two).\n",
    "* The thumbnail graphs show $T_{eff}$ for each run. These are illustrative of the general problem:-- the median StarNet - ASPCAP differences are much greater than the original (by a factor of 3 or so for $T_{eff}$), and the distributions of the differences are much more lumpy for both low and high SNRs.\n"
   ]
  },
  {
   "cell_type": "markdown",
   "metadata": {},
   "source": [
    "\n",
    "* U.Victoria original: [train data](https://nbviewer.jupyter.org/github/peterswords/StarNetTest/blob/master/notebooks/neworig0/2_Preprocessing_of_Training_Data.ipynb), [test data](https://nbviewer.jupyter.org/github/peterswords/StarNetTest/blob/master/notebooks/neworig0/3_Preprocessing_of_Test_Data.ipynb), [train](https://nbviewer.jupyter.org/github/peterswords/StarNetTest/blob/master/notebooks/neworig0/4_Train_Model.ipynb), [test](https://nbviewer.jupyter.org/github/peterswords/StarNetTest/blob/master/notebooks/neworig0/5_Test_Model.ipynb)\n",
    "\n",
    "<table><tr><td><img src=\"https://i.imgur.com/Q5YdixJ.png\"></td></tr></table>\n"
   ]
  },
  {
   "cell_type": "markdown",
   "metadata": {},
   "source": [
    "\n",
    "* Linux, Python 3.6.5, Keras 2.1.6, Tensorflow 1.8.0: [train data](https://nbviewer.jupyter.org/github/peterswords/StarNetTest/blob/master/notebooks/neworig1/2_Preprocessing_of_Training_Data.ipynb), [test data](https://nbviewer.jupyter.org/github/peterswords/StarNetTest/blob/master/notebooks/neworig1/3_Preprocessing_of_Test_Data.ipynb), [train](https://nbviewer.jupyter.org/github/peterswords/StarNetTest/blob/master/notebooks/neworig1/4_Train_Model.ipynb), [test](https://nbviewer.jupyter.org/github/peterswords/StarNetTest/blob/master/notebooks/neworig1/5_Test_Model.ipynb), [train](https://nbviewer.jupyter.org/github/peterswords/StarNetTest/blob/master/notebooks/neworig2/4_Train_Model.ipynb), [test](https://nbviewer.jupyter.org/github/peterswords/StarNetTest/blob/master/notebooks/neworig2/5_Test_Model.ipynb)\n",
    "\n",
    "<table><tr><td><img src=\"https://i.imgur.com/NsTX6Mi.png\"></td><td><img src=\"https://i.imgur.com/AANSmwg.png\"></td></tr></table>\n"
   ]
  },
  {
   "cell_type": "markdown",
   "metadata": {},
   "source": [
    "* Linux, Python 3.6.5, Keras 2.1.5, Tensorflow 1.4.1: [train data](https://nbviewer.jupyter.org/github/peterswords/StarNetTest/blob/master/notebooks/neworig3/2_Preprocessing_of_Training_Data.ipynb), [test data](https://nbviewer.jupyter.org/github/peterswords/StarNetTest/blob/master/notebooks/neworig3/3_Preprocessing_of_Test_Data.ipynb), [train](https://nbviewer.jupyter.org/github/peterswords/StarNetTest/blob/master/notebooks/neworig3/4_Train_Model.ipynb), [test](https://nbviewer.jupyter.org/github/peterswords/StarNetTest/blob/master/notebooks/neworig3/5_Test_Model.ipynb), [train](https://nbviewer.jupyter.org/github/peterswords/StarNetTest/blob/master/notebooks/neworig5/4_Train_Model.ipynb), [test](https://nbviewer.jupyter.org/github/peterswords/StarNetTest/blob/master/notebooks/neworig5/5_Test_Model.ipynb)\n",
    "\n",
    "<table><tr><td><img src=\"https://i.imgur.com/J9CAiIF.png\"></td><td><img src=\"https://i.imgur.com/Qc3Oxwj.png\"></td></tr></table>\n"
   ]
  },
  {
   "cell_type": "markdown",
   "metadata": {},
   "source": [
    "* Linux, Python 3.5.2, Keras 2.1.5, Tensorflow 1.4.1: [train data](https://nbviewer.jupyter.org/github/peterswords/StarNetTest/blob/master/notebooks/neworiglin352/2_Preprocessing_of_Training_Data.ipynb), [test data](https://nbviewer.jupyter.org/github/peterswords/StarNetTest/blob/master/notebooks/neworiglin352/3_Preprocessing_of_Test_Data.ipynb), [train](https://nbviewer.jupyter.org/github/peterswords/StarNetTest/blob/master/notebooks/neworiglin352/4_Train_Model.ipynb), [test](https://nbviewer.jupyter.org/github/peterswords/StarNetTest/blob/master/notebooks/neworiglin352/5_Test_Model.ipynb), [train](https://nbviewer.jupyter.org/github/peterswords/StarNetTest/blob/master/notebooks/neworiglin3522/4_Train_Model.ipynb), [test](https://nbviewer.jupyter.org/github/peterswords/StarNetTest/blob/master/notebooks/neworiglin3522/5_Test_Model.ipynb)\n",
    "\n",
    "<table><tr><td><img src=\"https://i.imgur.com/FbIAkE3.png\"></td><td><img src=\"https://i.imgur.com/a5l8XkR.png\"></td></tr></table>\n"
   ]
  },
  {
   "cell_type": "markdown",
   "metadata": {},
   "source": [
    "* Windows, Python 3.6.5, Keras 2.1.5, Tensorflow 1.4.0: [train data](https://nbviewer.jupyter.org/github/peterswords/StarNetTest/blob/master/notebooks/neworigwin/2_Preprocessing_of_Training_Data.ipynb), [test data](https://nbviewer.jupyter.org/github/peterswords/StarNetTest/blob/master/notebooks/neworigwin/3_Preprocessing_of_Test_Data.ipynb), [train](https://nbviewer.jupyter.org/github/peterswords/StarNetTest/blob/master/notebooks/neworigwin/4_Train_Model.ipynb), [test](https://nbviewer.jupyter.org/github/peterswords/StarNetTest/blob/master/notebooks/neworigwin/5_Test_Model.ipynb), [train](https://nbviewer.jupyter.org/github/peterswords/StarNetTest/blob/master/notebooks/neworigwin2/4_Train_Model.ipynb), [test](https://nbviewer.jupyter.org/github/peterswords/StarNetTest/blob/master/notebooks/neworigwin2/5_Test_Model.ipynb)\n",
    "\n",
    "<table><tr><td><img src=\"https://i.imgur.com/OsIlcWV.png\"></td><td><img src=\"https://i.imgur.com/EiO4AJq.png\"></td></tr></table>\n"
   ]
  },
  {
   "cell_type": "markdown",
   "metadata": {},
   "source": [
    "* Windows, Python 3.5.2, Keras 2.1.5, Tensorflow 1.4.0 (1 run): [train data](https://nbviewer.jupyter.org/github/peterswords/StarNetTest/blob/master/notebooks/neworigwin352/2_Preprocessing_of_Training_Data.ipynb), [test data](https://nbviewer.jupyter.org/github/peterswords/StarNetTest/blob/master/notebooks/neworigwin352/3_Preprocessing_of_Test_Data.ipynb), [train](https://nbviewer.jupyter.org/github/peterswords/StarNetTest/blob/master/notebooks/neworigwin352/4_Train_Model.ipynb), [test](https://nbviewer.jupyter.org/github/peterswords/StarNetTest/blob/master/notebooks/neworigwin352/5_Test_Model.ipynb)\n",
    "\n",
    "<table><tr><td><img src=\"https://i.imgur.com/u1nhhPb.png\"></td></tr></table>\n"
   ]
  },
  {
   "cell_type": "markdown",
   "metadata": {},
   "source": [
    "----\n",
    "Complete list of packages for the Linux + Python 3.5.2 + Keras 2.1.5 + Tensorflow 1.4.1 configuration:\n",
    "\n",
    "<pre>$ python3 -m pip list\n",
    "\n",
    "backcall (0.1.0)\n",
    "bleach (1.5.0)\n",
    "cadcutils (1.1.9)\n",
    "certifi (2018.4.16)\n",
    "chardet (3.0.4)\n",
    "cycler (0.10.0)\n",
    "decorator (4.3.0)\n",
    "entrypoints (0.2.3)\n",
    "enum34 (1.1.6)\n",
    "future (0.16.0)\n",
    "h5py (2.8.0)\n",
    "html2text (2018.1.9)\n",
    "html5lib (0.9999999)\n",
    "idna (2.7)\n",
    "ipykernel (4.8.2)\n",
    "ipython (6.4.0)\n",
    "ipython-genutils (0.2.0)\n",
    "ipywidgets (7.3.1)\n",
    "jedi (0.12.1)\n",
    "Jinja2 (2.10)\n",
    "jsonschema (2.6.0)\n",
    "jupyter (1.0.0)\n",
    "jupyter-client (5.2.3)\n",
    "jupyter-console (5.2.0)\n",
    "jupyter-core (4.4.0)\n",
    "Keras (2.1.5)\n",
    "kiwisolver (1.0.1)\n",
    "lxml (4.2.3)\n",
    "Markdown (2.6.11)\n",
    "MarkupSafe (1.0)\n",
    "matplotlib (2.2.2)\n",
    "mistune (0.8.3)\n",
    "nbconvert (5.3.1)\n",
    "nbformat (4.4.0)\n",
    "notebook (5.6.0)\n",
    "numpy (1.15.0)\n",
    "pandas (0.23.3)\n",
    "pandocfilters (1.4.2)\n",
    "parso (0.3.1)\n",
    "pexpect (4.6.0)\n",
    "pickleshare (0.7.4)\n",
    "pip (9.0.3)\n",
    "prometheus-client (0.3.0)\n",
    "prompt-toolkit (1.0.15)\n",
    "protobuf (3.6.0)\n",
    "ptyprocess (0.6.0)\n",
    "Pygments (2.2.0)\n",
    "pyparsing (2.2.0)\n",
    "python-dateutil (2.7.3)\n",
    "pytz (2018.5)\n",
    "PyYAML (3.13)\n",
    "pyzmq (17.1.0)\n",
    "qtconsole (4.3.1)\n",
    "requests (2.19.1)\n",
    "scipy (1.1.0)\n",
    "seaborn (0.9.0)\n",
    "Send2Trash (1.5.0)\n",
    "setuptools (36.2.7)\n",
    "simplegeneric (0.8.1)\n",
    "six (1.11.0)\n",
    "tensorflow (1.4.1)\n",
    "tensorflow-tensorboard (0.4.0)\n",
    "terminado (0.8.1)\n",
    "testpath (0.3.1)\n",
    "tornado (5.1)\n",
    "traitlets (4.3.2)\n",
    "urllib3 (1.23)\n",
    "vos (3.0.6)\n",
    "wcwidth (0.1.7)\n",
    "Werkzeug (0.14.1)\n",
    "wheel (0.31.1)\n",
    "widgetsnbextension (3.3.1)\n",
    "</pre>"
   ]
  },
  {
   "cell_type": "code",
   "execution_count": 1,
   "metadata": {},
   "outputs": [
    {
     "data": {
      "text/html": [
       "<style>table {margin-left: 0 !important;}</style>"
      ],
      "text/plain": [
       "<IPython.core.display.HTML object>"
      ]
     },
     "metadata": {},
     "output_type": "display_data"
    }
   ],
   "source": [
    "%%html\n",
    "<style>table {margin-left: 0 !important;}</style>"
   ]
  }
 ],
 "metadata": {
  "kernelspec": {
   "display_name": "Python 3",
   "language": "python",
   "name": "python3"
  },
  "language_info": {
   "codemirror_mode": {
    "name": "ipython",
    "version": 3
   },
   "file_extension": ".py",
   "mimetype": "text/x-python",
   "name": "python",
   "nbconvert_exporter": "python",
   "pygments_lexer": "ipython3",
   "version": "3.6.5"
  }
 },
 "nbformat": 4,
 "nbformat_minor": 2
}
